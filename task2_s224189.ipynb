{
 "cells": [
  {
   "cell_type": "code",
   "execution_count": 243,
   "metadata": {},
   "outputs": [],
   "source": [
    "import pandas as pd\n",
    "import numpy as np\n",
    "import matplotlib.pyplot as plt\n",
    "import seaborn as sns\n",
    "\n",
    "import statsmodels.api as sm\n",
    "\n",
    "\n",
    "import torch\n",
    "from torch import nn\n",
    "from torch.utils.data import DataLoader\n",
    "from torchvision import datasets\n",
    "from torchvision.transforms import ToTensor\n",
    "\n",
    "from sklearn.tree import DecisionTreeRegressor\n",
    "from sklearn.ensemble import RandomForestClassifier\n",
    "from sklearn.model_selection import StratifiedKFold, GroupKFold, StratifiedGroupKFold\n",
    "from sklearn.preprocessing import StandardScaler, LabelEncoder, scale\n",
    "from sklearn.linear_model import LogisticRegression\n",
    "from sklearn.metrics import accuracy_score, mean_squared_error, classification_report, confusion_matrix, roc_curve, auc, precision_score, recall_score, f1_score, roc_auc_score\n",
    "from sklearn.dummy import DummyClassifier\n",
    "import random\n",
    "\n",
    "random_seed = 42"
   ]
  },
  {
   "cell_type": "code",
   "execution_count": 225,
   "metadata": {},
   "outputs": [],
   "source": [
    "# file_name = 'XData.xlsx'\n",
    " \n",
    "# # saving the excel\n",
    "# datas.to_excel(file_name)"
   ]
  },
  {
   "cell_type": "code",
   "execution_count": 226,
   "metadata": {},
   "outputs": [],
   "source": [
    "import warnings\n",
    "\n",
    "# Suppress the specific UserWarning from sklearn\n",
    "warnings.filterwarnings('ignore', category=UserWarning)"
   ]
  },
  {
   "cell_type": "markdown",
   "metadata": {},
   "source": [
    "# Task 2 "
   ]
  },
  {
   "cell_type": "markdown",
   "metadata": {},
   "source": [
    "Clara Louise Brodt"
   ]
  },
  {
   "cell_type": "markdown",
   "metadata": {},
   "source": [
    "_____________\n",
    "## DATA COLLECTION\n",
    "\n",
    "____________"
   ]
  },
  {
   "cell_type": "code",
   "execution_count": 227,
   "metadata": {},
   "outputs": [],
   "source": [
    "df = pd.read_csv('/Users/claralouisebrodt/Library/CloudStorage/OneDrive-DanmarksTekniskeUniversitet/DTU/2. semester/Project in Statistical Evaluation for Artificial Intelligens/Individual assignment/HR_data.csv')"
   ]
  },
  {
   "cell_type": "code",
   "execution_count": 228,
   "metadata": {},
   "outputs": [],
   "source": [
    "X = pd.DataFrame(df, columns=['HR_Mean', 'HR_Median','HR_std','HR_Min','HR_Max','HR_AUC','Round','Phase','Puzzler','Cohort'])\n",
    "y = pd.DataFrame(df, columns=['Frustrated'])\n",
    "groups = df['Individual']\n",
    "\n",
    "\n",
    "label = LabelEncoder()\n",
    "scaler = StandardScaler()\n",
    "\n",
    "X[['HR_Mean', 'HR_Median', 'HR_std', 'HR_Min', 'HR_Max', 'HR_AUC']] = scaler.fit_transform(X[['HR_Mean', 'HR_Median', 'HR_std', 'HR_Min', 'HR_Max', 'HR_AUC']])\n",
    "\n",
    "X['Round'] = label.fit_transform(X['Round'])\n",
    "X['Phase'] = label.fit_transform(X['Phase'])\n",
    "X['Cohort'] = label.fit_transform(X['Cohort'])\n",
    "# X['HR_Mean'] = round(X['HR_Mean'],2)\n",
    "# X['HR_Median'] = round(X['HR_Median'],2)\n",
    "# X['HR_std'] = round(X['HR_std'],2)\n",
    "# X['HR_AUC'] = round(X['HR_AUC'],2)\n",
    "\n",
    "\n",
    "X = X.to_numpy()\n",
    "y = y.to_numpy()\n",
    "\n",
    "binary = True\n",
    "\n",
    "if binary == True:\n",
    "    y = df['Frustrated'].apply(lambda x: 0 if 0 <= x <= 3 else 1).to_numpy()\n",
    "\n",
    "\n",
    "gkf = GroupKFold(n_splits=7)\n",
    "\n",
    "\n"
   ]
  },
  {
   "cell_type": "markdown",
   "metadata": {},
   "source": [
    "_____________\n",
    "## AI MODELS\n",
    "\n",
    "_____________"
   ]
  },
  {
   "cell_type": "markdown",
   "metadata": {},
   "source": [
    "## Dummy classifier"
   ]
  },
  {
   "cell_type": "code",
   "execution_count": 229,
   "metadata": {},
   "outputs": [
    {
     "name": "stdout",
     "output_type": "stream",
     "text": [
      "\n",
      "Baseline Model Performance (Most Frequent Class):\n",
      "---------------------------------------------------------------------------------------------------------------\n",
      "| Fold : 1 | Accuracy : 58.33%  | Precision : 0.0000 | Recall : 0.0000 | F1-Score : 0.0000 | ROC-AUC : 0.5000 |\n",
      "---------------------------------------------------------------------------------------------------------------\n",
      "| Fold : 2 | Accuracy : 75.00%  | Precision : 0.0000 | Recall : 0.0000 | F1-Score : 0.0000 | ROC-AUC : 0.5000 |\n",
      "---------------------------------------------------------------------------------------------------------------\n",
      "| Fold : 3 | Accuracy : 66.67%  | Precision : 0.0000 | Recall : 0.0000 | F1-Score : 0.0000 | ROC-AUC : 0.5000 |\n",
      "---------------------------------------------------------------------------------------------------------------\n",
      "| Fold : 4 | Accuracy : 79.17%  | Precision : 0.0000 | Recall : 0.0000 | F1-Score : 0.0000 | ROC-AUC : 0.5000 |\n",
      "---------------------------------------------------------------------------------------------------------------\n",
      "| Fold : 5 | Accuracy : 79.17%  | Precision : 0.0000 | Recall : 0.0000 | F1-Score : 0.0000 | ROC-AUC : 0.5000 |\n",
      "---------------------------------------------------------------------------------------------------------------\n",
      "| Fold : 6 | Accuracy : 66.67%  | Precision : 0.0000 | Recall : 0.0000 | F1-Score : 0.0000 | ROC-AUC : 0.5000 |\n",
      "---------------------------------------------------------------------------------------------------------------\n",
      "| Fold : 7 | Accuracy : 79.17%  | Precision : 0.0000 | Recall : 0.0000 | F1-Score : 0.0000 | ROC-AUC : 0.5000 |\n",
      "-------------------------------------------------------------------------------------------------\n",
      "| Average Accuracy : 72.02% |\n",
      "| Average Precision : 0.0000    |\n",
      "| Average Recall : 0.0000    |\n",
      "| Average F1-Score : 0.0000    |\n",
      "| Average ROC-AUC : 0.5000    |\n"
     ]
    }
   ],
   "source": [
    "baseline_model = DummyClassifier(strategy='most_frequent')\n",
    "\n",
    "print(\"\\nBaseline Model Performance (Most Frequent Class):\")\n",
    "\n",
    "\n",
    "accuracy_dummy = []\n",
    "precision_dummy = []\n",
    "recall_dummy = []\n",
    "f1_dummy = []\n",
    "roc_auc_dummy = []\n",
    "\n",
    "for i, (train_index, test_index) in enumerate(gkf.split(X, y, groups)):\n",
    "    X_train, X_test = X[train_index], X[test_index]\n",
    "    y_train, y_test = y[train_index], y[test_index]\n",
    "    \n",
    "    baseline_model.fit(X_train, y_train)\n",
    "    \n",
    "    y_pred = baseline_model.predict(X_test)\n",
    "    y_prob = baseline_model.predict_proba(X_test)[:, 1]\n",
    "    \n",
    "    accuracy = accuracy_score(y_test, y_pred)\n",
    "    precision = precision_score(y_test, y_pred)\n",
    "    recall = recall_score(y_test, y_pred)\n",
    "    f1 = f1_score(y_test, y_pred)\n",
    "    roc_auc = roc_auc_score(y_test, y_prob)\n",
    "    \n",
    "    accuracy_dummy.append(accuracy)\n",
    "    precision_dummy.append(precision)\n",
    "    recall_dummy.append(recall)\n",
    "    f1_dummy.append(f1)\n",
    "    roc_auc_dummy.append(roc_auc)\n",
    "    \n",
    "    mse = mean_squared_error(y_test, y_pred)\n",
    "    \n",
    "    print(\"---------------------------------------------------------------------------------------------------------------\")\n",
    "    print(f'| Fold : {i+1} | Accuracy : {accuracy * 100:.2f}%  | Precision : {precision:.4f} | Recall : {recall:.4f} | F1-Score : {f1:.4f} | ROC-AUC : {roc_auc:.4f} |')\n",
    "\n",
    "# Calculating and printing the average scores\n",
    "print(\"-------------------------------------------------------------------------------------------------\")\n",
    "print(f'| Average Accuracy : {np.mean(accuracy_dummy) * 100:.2f}% |')\n",
    "print(f'| Average Precision : {np.mean(precision_dummy):.4f}    |')\n",
    "print(f'| Average Recall : {np.mean(recall_dummy):.4f}    |')\n",
    "print(f'| Average F1-Score : {np.mean(f1_dummy):.4f}    |')\n",
    "print(f'| Average ROC-AUC : {np.mean(roc_auc_dummy):.4f}    |')\n"
   ]
  },
  {
   "cell_type": "markdown",
   "metadata": {},
   "source": [
    "## Model 1 : Logistic Regression model"
   ]
  },
  {
   "cell_type": "code",
   "execution_count": 245,
   "metadata": {},
   "outputs": [
    {
     "name": "stdout",
     "output_type": "stream",
     "text": [
      "MODEL : Logistic Regression\n",
      "---------------------------------------------------------------------------------------------------------------\n",
      "| Fold : 1 | Accuracy : 58.33%  | Precision : 0.0000 | Recall : 0.0000 | F1-Score : 0.0000 | ROC-AUC : 0.6143 |\n",
      "---------------------------------------------------------------------------------------------------------------\n",
      "| Fold : 2 | Accuracy : 75.00%  | Precision : 0.0000 | Recall : 0.0000 | F1-Score : 0.0000 | ROC-AUC : 0.4722 |\n",
      "---------------------------------------------------------------------------------------------------------------\n",
      "| Fold : 3 | Accuracy : 62.50%  | Precision : 0.0000 | Recall : 0.0000 | F1-Score : 0.0000 | ROC-AUC : 0.5234 |\n",
      "---------------------------------------------------------------------------------------------------------------\n",
      "| Fold : 4 | Accuracy : 79.17%  | Precision : 0.0000 | Recall : 0.0000 | F1-Score : 0.0000 | ROC-AUC : 0.7474 |\n",
      "---------------------------------------------------------------------------------------------------------------\n",
      "| Fold : 5 | Accuracy : 83.33%  | Precision : 1.0000 | Recall : 0.2000 | F1-Score : 0.3333 | ROC-AUC : 0.7158 |\n",
      "---------------------------------------------------------------------------------------------------------------\n",
      "| Fold : 6 | Accuracy : 62.50%  | Precision : 0.0000 | Recall : 0.0000 | F1-Score : 0.0000 | ROC-AUC : 0.5859 |\n",
      "---------------------------------------------------------------------------------------------------------------\n",
      "| Fold : 7 | Accuracy : 62.50%  | Precision : 0.0000 | Recall : 0.0000 | F1-Score : 0.0000 | ROC-AUC : 0.4947 |\n",
      "---------------------------------------------------------------------------------------------------------------\n",
      "| Average Accuracy : 69.05% |\n",
      "| Average Precision : 0.1429    |\n",
      "| Average Recall : 0.0286    |\n",
      "| Average F1-Score : 0.0476    |\n",
      "| Average ROC-AUC : 0.5934    |\n"
     ]
    }
   ],
   "source": [
    "model = LogisticRegression()\n",
    "print(\"MODEL : Logistic Regression\")\n",
    "\n",
    "\n",
    "accuracy_lr = []\n",
    "precision_lr = []\n",
    "recall_lr = []\n",
    "f1_lr = []\n",
    "roc_auc_lr = []\n",
    "\n",
    "for i, (train_index, test_index) in enumerate(gkf.split(X, y, groups)):\n",
    "    X_train, X_test = X[train_index], X[test_index]\n",
    "    y_train, y_test = y[train_index], y[test_index]\n",
    "    \n",
    "    model.fit(X_train, y_train)\n",
    "    \n",
    "    y_pred = model.predict(X_test)\n",
    "    y_prob = model.predict_proba(X_test)[:, 1]\n",
    "    \n",
    "    accuracy = accuracy_score(y_test, y_pred)\n",
    "    precision = precision_score(y_test, y_pred)\n",
    "    recall = recall_score(y_test, y_pred)\n",
    "    f1 = f1_score(y_test, y_pred)\n",
    "    roc_auc = roc_auc_score(y_test, y_prob)\n",
    "    \n",
    "    accuracy_lr.append(accuracy)\n",
    "    precision_lr.append(precision)\n",
    "    recall_lr.append(recall)\n",
    "    f1_lr.append(f1)\n",
    "    roc_auc_lr.append(roc_auc)\n",
    "    \n",
    "    mse = mean_squared_error(y_test, y_pred)\n",
    "    \n",
    "    print(\"---------------------------------------------------------------------------------------------------------------\")\n",
    "    print(f'| Fold : {i+1} | Accuracy : {accuracy * 100:.2f}%  | Precision : {precision:.4f} | Recall : {recall:.4f} | F1-Score : {f1:.4f} | ROC-AUC : {roc_auc:.4f} |')\n",
    "\n",
    "# Calculating and printing the average scores\n",
    "print(\"---------------------------------------------------------------------------------------------------------------\")\n",
    "print(f'| Average Accuracy : {np.mean(accuracy_lr) * 100:.2f}% |')\n",
    "print(f'| Average Precision : {np.mean(precision_lr):.4f}    |')\n",
    "print(f'| Average Recall : {np.mean(recall_lr):.4f}    |')\n",
    "print(f'| Average F1-Score : {np.mean(f1_lr):.4f}    |')\n",
    "print(f'| Average ROC-AUC : {np.mean(roc_auc_lr):.4f}    |')\n"
   ]
  },
  {
   "cell_type": "markdown",
   "metadata": {},
   "source": [
    "## Decision Tree"
   ]
  },
  {
   "cell_type": "code",
   "execution_count": 252,
   "metadata": {},
   "outputs": [
    {
     "name": "stdout",
     "output_type": "stream",
     "text": [
      "MODEL : Decision Tree Regressor\n",
      "---------------------------------------------------------------------------------------------------------------\n",
      "| Fold : 1 | Accuracy : 66.67%  | Precision : 0.6250 | Recall : 0.5000 | F1-Score : 0.5556 | ROC-AUC : 0.6429 |\n",
      "---------------------------------------------------------------------------------------------------------------\n",
      "| Fold : 2 | Accuracy : 54.17%  | Precision : 0.1429 | Recall : 0.1667 | F1-Score : 0.1538 | ROC-AUC : 0.4167 |\n",
      "---------------------------------------------------------------------------------------------------------------\n",
      "| Fold : 3 | Accuracy : 58.33%  | Precision : 0.3750 | Recall : 0.3750 | F1-Score : 0.3750 | ROC-AUC : 0.5312 |\n",
      "---------------------------------------------------------------------------------------------------------------\n",
      "| Fold : 4 | Accuracy : 79.17%  | Precision : 0.5000 | Recall : 0.6000 | F1-Score : 0.5455 | ROC-AUC : 0.7211 |\n",
      "---------------------------------------------------------------------------------------------------------------\n",
      "| Fold : 5 | Accuracy : 70.83%  | Precision : 0.3333 | Recall : 0.4000 | F1-Score : 0.3636 | ROC-AUC : 0.5947 |\n",
      "---------------------------------------------------------------------------------------------------------------\n",
      "| Fold : 6 | Accuracy : 66.67%  | Precision : 0.5000 | Recall : 0.2500 | F1-Score : 0.3333 | ROC-AUC : 0.5625 |\n",
      "---------------------------------------------------------------------------------------------------------------\n",
      "| Fold : 7 | Accuracy : 66.67%  | Precision : 0.3636 | Recall : 0.8000 | F1-Score : 0.5000 | ROC-AUC : 0.7158 |\n",
      "-------------------------------------------------------------------------------------------------\n",
      "| Average Accuracy : 66.07% |\n",
      "| Average Precision : 0.4057    |\n",
      "| Average Recall : 0.4417    |\n",
      "| Average F1-Score : 0.4038    |\n",
      "| Average ROC-AUC : 0.5978    |\n"
     ]
    }
   ],
   "source": [
    "model = DecisionTreeRegressor()\n",
    "print(\"MODEL : Decision Tree Regressor\")\n",
    "\n",
    "\n",
    "accuracy_dt = []\n",
    "precision_dt = []\n",
    "recall_dt = []\n",
    "f1_dt = []\n",
    "roc_auc_dt = []\n",
    "\n",
    "for i, (train_index, test_index) in enumerate(gkf.split(X, y, groups)):\n",
    "    X_train, X_test = X[train_index], X[test_index]\n",
    "    y_train, y_test = y[train_index], y[test_index]\n",
    "    \n",
    "    model.fit(X_train, y_train)\n",
    "        \n",
    "    y_pred = model.predict(X_test)\n",
    "    y_pred_class = np.where(y_pred >= 0.5, 1, 0)\n",
    "    \n",
    "    accuracy = accuracy_score(y_test, y_pred_class)\n",
    "    precision = precision_score(y_test, y_pred_class)\n",
    "    recall = recall_score(y_test, y_pred_class)\n",
    "    f1 = f1_score(y_test, y_pred_class)\n",
    "    roc_auc = roc_auc_score(y_test, y_pred)\n",
    "    \n",
    "    accuracy_dt.append(accuracy)\n",
    "    precision_dt.append(precision)\n",
    "    recall_dt.append(recall)\n",
    "    f1_dt.append(f1)\n",
    "    roc_auc_dt.append(roc_auc)\n",
    "    \n",
    "    mse = mean_squared_error(y_test, y_pred)\n",
    "    \n",
    "    print(\"---------------------------------------------------------------------------------------------------------------\")\n",
    "    print(f'| Fold : {i+1} | Accuracy : {accuracy * 100:.2f}%  | Precision : {precision:.4f} | Recall : {recall:.4f} | F1-Score : {f1:.4f} | ROC-AUC : {roc_auc:.4f} |')\n",
    "\n",
    "# Calculating and printing the average scores\n",
    "print(\"-------------------------------------------------------------------------------------------------\")\n",
    "print(f'| Average Accuracy : {np.mean(accuracy_dt) * 100:.2f}% |')\n",
    "print(f'| Average Precision : {np.mean(precision_dt):.4f}    |')\n",
    "print(f'| Average Recall : {np.mean(recall_dt):.4f}    |')\n",
    "print(f'| Average F1-Score : {np.mean(f1_dt):.4f}    |')\n",
    "print(f'| Average ROC-AUC : {np.mean(roc_auc_dt):.4f}    |')\n",
    "    "
   ]
  },
  {
   "cell_type": "markdown",
   "metadata": {},
   "source": [
    "## Random Forest"
   ]
  },
  {
   "cell_type": "code",
   "execution_count": 232,
   "metadata": {},
   "outputs": [
    {
     "name": "stdout",
     "output_type": "stream",
     "text": [
      "MODEL : Random Forest Classifier\n",
      "---------------------------------------------------------------------------------------------------------------\n",
      "| Fold : 1 | Accuracy : 66.67%  | Precision : 1.0000 | Recall : 0.2000 | F1-Score : 0.3333 | ROC-AUC : 0.7071 |\n",
      "---------------------------------------------------------------------------------------------------------------\n",
      "| Fold : 2 | Accuracy : 70.83%  | Precision : 0.3333 | Recall : 0.1667 | F1-Score : 0.2222 | ROC-AUC : 0.4907 |\n",
      "---------------------------------------------------------------------------------------------------------------\n",
      "| Fold : 3 | Accuracy : 75.00%  | Precision : 0.6667 | Recall : 0.5000 | F1-Score : 0.5714 | ROC-AUC : 0.6172 |\n",
      "---------------------------------------------------------------------------------------------------------------\n",
      "| Fold : 4 | Accuracy : 75.00%  | Precision : 0.4000 | Recall : 0.4000 | F1-Score : 0.4000 | ROC-AUC : 0.6842 |\n",
      "---------------------------------------------------------------------------------------------------------------\n",
      "| Fold : 5 | Accuracy : 70.83%  | Precision : 0.3333 | Recall : 0.4000 | F1-Score : 0.3636 | ROC-AUC : 0.6526 |\n",
      "---------------------------------------------------------------------------------------------------------------\n",
      "| Fold : 6 | Accuracy : 66.67%  | Precision : 0.5000 | Recall : 0.1250 | F1-Score : 0.2000 | ROC-AUC : 0.5586 |\n",
      "---------------------------------------------------------------------------------------------------------------\n",
      "| Fold : 7 | Accuracy : 83.33%  | Precision : 0.5714 | Recall : 0.8000 | F1-Score : 0.6667 | ROC-AUC : 0.8737 |\n",
      "----------------------------------------------------------\n",
      "| Average Accuracy : 72.62% |\n",
      "| Average Precision : 0.5435    |\n",
      "| Average Recall : 0.3702    |\n",
      "| Average F1-Score : 0.3939    |\n",
      "| Average ROC-AUC : 0.6549    |\n"
     ]
    }
   ],
   "source": [
    "model = RandomForestClassifier()\n",
    "print(\"MODEL : Random Forest Classifier\")\n",
    "\n",
    "accuracy_rf = []\n",
    "precision_rf = []\n",
    "recall_rf = []\n",
    "f1_rf = []\n",
    "roc_auc_rf = []\n",
    "\n",
    "for i, (train_index, test_index) in enumerate(gkf.split(X, y, groups)):\n",
    "    X_train, X_test = X[train_index], X[test_index]\n",
    "    y_train, y_test = y[train_index], y[test_index]\n",
    "    \n",
    "    model.fit(X_train, y_train)\n",
    "    \n",
    "    y_pred = model.predict(X_test)\n",
    "    y_prob = model.predict_proba(X_test)[:, 1]  \n",
    "    \n",
    "    accuracy = accuracy_score(y_test, y_pred)\n",
    "    precision = precision_score(y_test, y_pred)\n",
    "    recall = recall_score(y_test, y_pred)\n",
    "    f1 = f1_score(y_test, y_pred)\n",
    "    roc_auc = roc_auc_score(y_test, y_prob)\n",
    "    \n",
    "    accuracy_rf.append(accuracy)\n",
    "    precision_rf.append(precision)\n",
    "    recall_rf.append(recall)\n",
    "    f1_rf.append(f1)\n",
    "    roc_auc_rf.append(roc_auc)\n",
    "    \n",
    "    mse = mean_squared_error(y_test, y_pred)\n",
    "    \n",
    "    print(\"---------------------------------------------------------------------------------------------------------------\")\n",
    "    print(f'| Fold : {i+1} | Accuracy : {accuracy * 100:.2f}%  | Precision : {precision:.4f} | Recall : {recall:.4f} | F1-Score : {f1:.4f} | ROC-AUC : {roc_auc:.4f} |')\n",
    "\n",
    "# Calculating and printing the average scores\n",
    "print(\"----------------------------------------------------------\")\n",
    "print(f'| Average Accuracy : {np.mean(accuracy_rf) * 100:.2f}% |')\n",
    "print(f'| Average Precision : {np.mean(precision_rf):.4f}    |')\n",
    "print(f'| Average Recall : {np.mean(recall_rf):.4f}    |')\n",
    "print(f'| Average F1-Score : {np.mean(f1_rf):.4f}    |')\n",
    "print(f'| Average ROC-AUC : {np.mean(roc_auc_rf):.4f}    |')\n",
    "    "
   ]
  },
  {
   "cell_type": "markdown",
   "metadata": {},
   "source": [
    "_____________\n",
    "## STATISTICS\n",
    "\n",
    "_____________"
   ]
  },
  {
   "cell_type": "code",
   "execution_count": 253,
   "metadata": {},
   "outputs": [
    {
     "name": "stdout",
     "output_type": "stream",
     "text": [
      "F_onewayResult(statistic=1.1422594142259421, pvalue=0.34116946467318515)\n",
      "F_onewayResult(statistic=9.543932667406581, pvalue=0.0014940530194970294)\n",
      "F_onewayResult(statistic=3.9103446415835847, pvalue=0.038881415006136365)\n",
      "F_onewayResult(statistic=0.6519925994295372, pvalue=0.532880419748153)\n"
     ]
    }
   ],
   "source": [
    "import pandas as pd\n",
    "import scipy.stats as stats\n",
    "\n",
    "\n",
    "anova_accuracy = stats.f_oneway(accuracy_lr,accuracy_dt,accuracy_rf)\n",
    "print(anova_accuracy)\n",
    "\n",
    "anova_recall = stats.f_oneway(recall_lr,recall_dt,recall_rf)\n",
    "print(anova_recall)\n",
    "\n",
    "anova_precision = stats.f_oneway(precision_lr,precision_dt,precision_rf)\n",
    "print(anova_precision)\n",
    "\n",
    "anova_roc_auc = stats.f_oneway(roc_auc_lr,roc_auc_dt,roc_auc_rf)\n",
    "print(anova_roc_auc)\n"
   ]
  },
  {
   "cell_type": "markdown",
   "metadata": {},
   "source": [
    "________________________\n",
    "## PLOTS AND OTHERS\n",
    "_____________"
   ]
  },
  {
   "cell_type": "code",
   "execution_count": 254,
   "metadata": {},
   "outputs": [
    {
     "data": {
      "image/png": "[encoded data removed]",
      "text/plain": [
       "<Figure size 2000x1000 with 4 Axes>"
      ]
     },
     "metadata": {},
     "output_type": "display_data"
    }
   ],
   "source": [
    "\n",
    "from sklearn.feature_selection import f_oneway\n",
    "\n",
    "models = {\n",
    "    \"Logistic Regression\": LogisticRegression(max_iter=10000),\n",
    "    \"Decision Tree\": DecisionTreeRegressor(),\n",
    "    \"Random Forest\": RandomForestClassifier()\n",
    "}\n",
    "\n",
    "def evaluate_model(model, X, y, groups):\n",
    "    accuracy_list = []\n",
    "    precision_list = []\n",
    "    recall_list = []\n",
    "    f1_list = []\n",
    "    roc_auc_list = []\n",
    "    mse_list = []\n",
    "    \n",
    "    for train_index, test_index in gkf.split(X, y, groups):\n",
    "        X_train, X_test = X[train_index], X[test_index]  \n",
    "        y_train, y_test = y[train_index], y[test_index]\n",
    "        \n",
    "        model.fit(X_train, y_train)\n",
    "        \n",
    "        if hasattr(model, 'predict_proba'):\n",
    "            y_prob = model.predict_proba(X_test)[:, 1]\n",
    "            roc_auc = roc_auc_score(y_test, y_prob)\n",
    "        else:\n",
    "            y_prob = None\n",
    "            roc_auc = None\n",
    "        \n",
    "        y_pred = model.predict(X_test)\n",
    "        \n",
    "        accuracy = accuracy_score(y_test, y_pred)\n",
    "        precision = precision_score(y_test, y_pred)\n",
    "        recall = recall_score(y_test, y_pred)\n",
    "        f1 = f1_score(y_test, y_pred)\n",
    "        mse = mean_squared_error(y_test, y_pred)\n",
    "        \n",
    "        accuracy_list.append(accuracy)\n",
    "        precision_list.append(precision)\n",
    "        recall_list.append(recall)\n",
    "        f1_list.append(f1)\n",
    "        roc_auc_list.append(roc_auc)\n",
    "        mse_list.append(mse)\n",
    "    \n",
    "    return {\n",
    "        \"accuracy\": accuracy_list,\n",
    "        \"precision\": precision_list,\n",
    "        \"recall\": recall_list,\n",
    "        \"roc_auc\": roc_auc_list,\n",
    "    }\n",
    "\n",
    "# Evaluate all models\n",
    "results = {}\n",
    "for model_name, model in models.items():\n",
    "    results[model_name] = evaluate_model(model, X, y, groups)\n",
    "        \n",
    "    \n",
    "# Prepare data for plotting\n",
    "metrics = [\"accuracy\", \"precision\", \"recall\", \"roc_auc\"]\n",
    "plot_data = {}\n",
    "\n",
    "for metric in metrics:\n",
    "    plot_data[metric] = {\n",
    "        model_name: results[model_name][metric]\n",
    "        for model_name in models.keys()\n",
    "    }\n",
    "\n",
    "# Plotting\n",
    "plt.figure(figsize=(20, 10))\n",
    "\n",
    "for i, metric in enumerate(metrics, 1):\n",
    "    plt.subplot(2, 3, i)\n",
    "    metric_data = pd.DataFrame(plot_data[metric])\n",
    "    sns.boxplot(data=metric_data)\n",
    "    plt.title(f'Model Comparison - {metric.capitalize()}')\n",
    "    plt.xlabel('Model')\n",
    "    plt.ylabel(metric.capitalize())\n",
    "\n",
    "plt.tight_layout()\n",
    "plt.show()\n",
    "\n"
   ]
  }
 ],
 "metadata": {
  "kernelspec": {
   "display_name": "Python 3",
   "language": "python",
   "name": "python3"
  },
  "language_info": {
   "codemirror_mode": {
    "name": "ipython",
    "version": 3
   },
   "file_extension": ".py",
   "mimetype": "text/x-python",
   "name": "python",
   "nbconvert_exporter": "python",
   "pygments_lexer": "ipython3",
   "version": "3.11.5"
  },
  "orig_nbformat": 4
 },
 "nbformat": 4,
 "nbformat_minor": 2
}
